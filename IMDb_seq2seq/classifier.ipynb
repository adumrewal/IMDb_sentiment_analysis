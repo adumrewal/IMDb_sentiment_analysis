{
 "cells": [
  {
   "cell_type": "code",
   "execution_count": 1,
   "metadata": {},
   "outputs": [
    {
     "name": "stderr",
     "output_type": "stream",
     "text": [
      "Using TensorFlow backend.\n"
     ]
    }
   ],
   "source": [
    "import numpy\n",
    "from keras.datasets import imdb\n",
    "from keras.models import Sequential, Model, model_from_json\n",
    "from keras.layers import Dense, Input, LSTM, RepeatVector, Activation\n",
    "from keras.layers.embeddings import Embedding\n",
    "from keras.preprocessing import sequence\n",
    "\n",
    "# fix random seed for reproducibility\n",
    "numpy.random.seed(7)"
   ]
  },
  {
   "cell_type": "code",
   "execution_count": 2,
   "metadata": {},
   "outputs": [],
   "source": [
    "# load the dataset but only keep the top n words, zero the rest\n",
    "top_words = 50\n",
    "(X_train, y_train), (X_test, y_test) = imdb.load_data(num_words=top_words)"
   ]
  },
  {
   "cell_type": "code",
   "execution_count": 3,
   "metadata": {},
   "outputs": [
    {
     "name": "stdout",
     "output_type": "stream",
     "text": [
      "[[ 2  2 26 ..., 19  2 32]\n",
      " [ 2  5  2 ..., 16  2  2]\n",
      " [ 2 28  2 ...,  7  2  2]\n",
      " ..., \n",
      " [ 4  2  2 ...,  4  2  2]\n",
      " [13 18 31 ..., 12  9 23]\n",
      " [ 2  8  2 ...,  2  2  9]]\n",
      "[1 0 0 ..., 0 1 0]\n"
     ]
    }
   ],
   "source": [
    "# truncate and pad input sequences\n",
    "max_review_length = 50\n",
    "# X_train = X_train[:1000]\n",
    "# y_train = y_train[:1000]\n",
    "X_train = sequence.pad_sequences(X_train, maxlen=max_review_length)\n",
    "X_test = sequence.pad_sequences(X_test, maxlen=max_review_length)\n",
    "print(X_train)\n",
    "print(y_train)"
   ]
  },
  {
   "cell_type": "code",
   "execution_count": 4,
   "metadata": {},
   "outputs": [],
   "source": [
    "encoder_input = numpy.zeros((len(X_train), max_review_length, top_words))\n",
    "for i, sentence in enumerate(X_train):\n",
    "    for j, word in enumerate(sentence):\n",
    "        encoder_input[i, j, word] = 1"
   ]
  },
  {
   "cell_type": "code",
   "execution_count": 5,
   "metadata": {},
   "outputs": [],
   "source": [
    "encoder_input_test = numpy.zeros((len(X_test), max_review_length, top_words))\n",
    "for i, sentence in enumerate(X_test):\n",
    "    for j, word in enumerate(sentence):\n",
    "        encoder_input_test[i, j, word] = 1"
   ]
  },
  {
   "cell_type": "code",
   "execution_count": 6,
   "metadata": {},
   "outputs": [
    {
     "name": "stdout",
     "output_type": "stream",
     "text": [
      "(?, 50, 50)\n",
      "(?, 50)\n",
      "(?, 50)\n",
      "(?, 50, 50)\n",
      "(?, ?, 50)\n",
      "(?, ?, 50)\n"
     ]
    }
   ],
   "source": [
    "latent_dim=top_words\n",
    "inputs = Input(shape=(max_review_length, top_words))\n",
    "print(inputs.shape)\n",
    "encoded = LSTM(latent_dim,return_sequences=False,dropout=0.1)(inputs)\n",
    "print(encoded.shape)\n",
    "encoded = Dense(latent_dim,activation='sigmoid')(encoded)\n",
    "print(encoded.shape)\n",
    "decoded = RepeatVector(max_review_length)(encoded)\n",
    "print(decoded.shape)\n",
    "decoded = LSTM(latent_dim, return_sequences=True)(decoded)\n",
    "print(decoded.shape)\n",
    "decoded = Activation('softmax')(decoded)\n",
    "print(decoded.shape)\n",
    "\n",
    "sequence_autoencoder = Model(inputs, decoded)\n",
    "encoder = Model(inputs, encoded)"
   ]
  },
  {
   "cell_type": "code",
   "execution_count": 7,
   "metadata": {},
   "outputs": [],
   "source": [
    "sequence_autoencoder.compile(optimizer='rmsprop', loss='categorical_crossentropy',metrics=['accuracy'])"
   ]
  },
  {
   "cell_type": "code",
   "execution_count": 8,
   "metadata": {
    "scrolled": false
   },
   "outputs": [
    {
     "name": "stdout",
     "output_type": "stream",
     "text": [
      "Train on 25000 samples, validate on 25000 samples\n",
      "Epoch 1/10\n",
      "25000/25000 [==============================] - 62s 2ms/step - loss: 2.9020 - acc: 0.5621 - val_loss: 2.8615 - val_acc: 0.5710\n",
      "Epoch 2/10\n",
      "25000/25000 [==============================] - 62s 2ms/step - loss: 2.8480 - acc: 0.5719 - val_loss: 2.8503 - val_acc: 0.5640\n",
      "Epoch 3/10\n",
      "25000/25000 [==============================] - 62s 2ms/step - loss: 2.8403 - acc: 0.5715 - val_loss: 2.8468 - val_acc: 0.5655\n",
      "Epoch 4/10\n",
      "25000/25000 [==============================] - 62s 2ms/step - loss: 2.8349 - acc: 0.5702 - val_loss: 2.8372 - val_acc: 0.5649\n",
      "Epoch 5/10\n",
      "25000/25000 [==============================] - 62s 2ms/step - loss: 2.8302 - acc: 0.5706 - val_loss: 2.8330 - val_acc: 0.5656\n",
      "Epoch 6/10\n",
      "25000/25000 [==============================] - 62s 2ms/step - loss: 2.8291 - acc: 0.5697 - val_loss: 2.8361 - val_acc: 0.5584\n",
      "Epoch 7/10\n",
      "25000/25000 [==============================] - 62s 2ms/step - loss: 2.8275 - acc: 0.5718 - val_loss: 2.8320 - val_acc: 0.5665\n",
      "Epoch 8/10\n",
      "25000/25000 [==============================] - 62s 2ms/step - loss: 2.8256 - acc: 0.5711 - val_loss: 2.8292 - val_acc: 0.5650\n",
      "Epoch 9/10\n",
      "25000/25000 [==============================] - 62s 2ms/step - loss: 2.8226 - acc: 0.5722 - val_loss: 2.8262 - val_acc: 0.5693\n",
      "Epoch 10/10\n",
      "25000/25000 [==============================] - 63s 3ms/step - loss: 2.8194 - acc: 0.5722 - val_loss: 2.8223 - val_acc: 0.5654\n"
     ]
    },
    {
     "data": {
      "text/plain": [
       "<keras.callbacks.History at 0x7fba404b2390>"
      ]
     },
     "execution_count": 8,
     "metadata": {},
     "output_type": "execute_result"
    }
   ],
   "source": [
    "sequence_autoencoder.fit(encoder_input,encoder_input,batch_size = 64,epochs = 10, validation_data=(encoder_input_test, encoder_input_test)) # validation_split=0.3)\n"
   ]
  },
  {
   "cell_type": "code",
   "execution_count": 9,
   "metadata": {},
   "outputs": [],
   "source": [
    "# # save model as json\n",
    "# model_json = sequence_autoencoder.to_json()\n",
    "# with open(\"models/encoder.json\", \"w\") as json_file:\n",
    "#     json_file.write(model_json)\n",
    "# # serialize weights to HDF5\n",
    "# sequence_autoencoder.save_weights(\"models/encoder.h5\")\n",
    "# print(\"Saved model to disk\")\n"
   ]
  },
  {
   "cell_type": "code",
   "execution_count": 10,
   "metadata": {},
   "outputs": [],
   "source": [
    "# # load json and create model\n",
    "# json_file = open('models/encoder.json', 'r')\n",
    "# loaded_model_json = json_file.read()\n",
    "# json_file.close()\n",
    "# loaded_model = model_from_json(loaded_model_json)\n",
    "# # load weights into new model\n",
    "# loaded_model.load_weights(\"models/encoder.h5\")\n",
    "# print(\"Loaded model from disk\")\n"
   ]
  },
  {
   "cell_type": "code",
   "execution_count": 11,
   "metadata": {},
   "outputs": [],
   "source": [
    "# # Only for debugging purpose\n",
    "# z = 1\n",
    "# decoded_train = sequence_autoencoder.predict(encoder_input[z:z+1])\n",
    "# print(decoded_train)\n",
    "# print(decoded_train.shape)\n",
    "# print(encoder_input[z:z+1].shape)\n",
    "# print(encoder_input[z])"
   ]
  },
  {
   "cell_type": "code",
   "execution_count": 12,
   "metadata": {},
   "outputs": [
    {
     "name": "stdout",
     "output_type": "stream",
     "text": [
      "[[ 0.55768627  0.65891981  0.48071006 ...,  0.55686694  0.59972262\n",
      "   0.48916361]\n",
      " [ 0.56575203  0.78526115  0.66632491 ...,  0.40819427  0.40477139\n",
      "   0.12812956]\n",
      " [ 0.45523545  0.35163945  0.50617063 ...,  0.64417171  0.84766912\n",
      "   0.6587466 ]\n",
      " ..., \n",
      " [ 0.60720003  0.69888031  0.8338114  ...,  0.36654621  0.66989577\n",
      "   0.48242465]\n",
      " [ 0.61997652  0.81262159  0.43435851 ...,  0.53611898  0.38918602\n",
      "   0.2448179 ]\n",
      " [ 0.11388204  0.12168794  0.40964434 ...,  0.45711258  0.10535987\n",
      "   0.05810964]]\n",
      "(25000, 50)\n"
     ]
    }
   ],
   "source": [
    "encoded_train = encoder.predict(encoder_input)\n",
    "print(encoded_train)\n",
    "embedded_train = numpy.reshape(encoded_train, (len(encoder_input),top_words))\n",
    "print(encoded_train.shape)\n"
   ]
  },
  {
   "cell_type": "code",
   "execution_count": 13,
   "metadata": {},
   "outputs": [
    {
     "name": "stdout",
     "output_type": "stream",
     "text": [
      "[[ 0.20486037  0.36848336  0.50598913 ...,  0.58979666  0.21977293\n",
      "   0.68930674]\n",
      " [ 0.22914685  0.460949    0.64076537 ...,  0.30663884  0.04640674\n",
      "   0.107353  ]\n",
      " [ 0.58832365  0.44723576  0.55821377 ...,  0.56808007  0.82458603\n",
      "   0.64477652]\n",
      " ..., \n",
      " [ 0.67775989  0.68313521  0.55804759 ...,  0.52440917  0.48409593\n",
      "   0.59898919]\n",
      " [ 0.6369406   0.87636393  0.6485061  ...,  0.43285292  0.38804454\n",
      "   0.20396268]\n",
      " [ 0.62084961  0.53712624  0.72566396 ...,  0.4456012   0.66934609\n",
      "   0.5872432 ]]\n",
      "(25000, 50)\n"
     ]
    }
   ],
   "source": [
    "encoded_test = encoder.predict(encoder_input_test)\n",
    "print(encoded_test)\n",
    "embedded_test = numpy.reshape(encoded_test, (len(encoder_input),top_words))\n",
    "print(encoded_test.shape)\n"
   ]
  },
  {
   "cell_type": "code",
   "execution_count": 14,
   "metadata": {
    "scrolled": false
   },
   "outputs": [
    {
     "name": "stdout",
     "output_type": "stream",
     "text": [
      "_________________________________________________________________\n",
      "Layer (type)                 Output Shape              Param #   \n",
      "=================================================================\n",
      "dense_2 (Dense)              (None, 64)                3264      \n",
      "_________________________________________________________________\n",
      "dense_3 (Dense)              (None, 64)                4160      \n",
      "_________________________________________________________________\n",
      "dense_4 (Dense)              (None, 1)                 65        \n",
      "=================================================================\n",
      "Total params: 7,489\n",
      "Trainable params: 7,489\n",
      "Non-trainable params: 0\n",
      "_________________________________________________________________\n",
      "None\n",
      "Train on 25000 samples, validate on 25000 samples\n",
      "Epoch 1/20\n",
      "25000/25000 [==============================] - 1s 46us/step - loss: 0.6878 - acc: 0.5444 - val_loss: 0.6858 - val_acc: 0.5481\n",
      "Epoch 2/20\n",
      "25000/25000 [==============================] - 1s 33us/step - loss: 0.6852 - acc: 0.5480 - val_loss: 0.6875 - val_acc: 0.5473\n",
      "Epoch 3/20\n",
      "25000/25000 [==============================] - 1s 34us/step - loss: 0.6846 - acc: 0.5508 - val_loss: 0.6857 - val_acc: 0.5496\n",
      "Epoch 4/20\n",
      "25000/25000 [==============================] - 1s 33us/step - loss: 0.6841 - acc: 0.5554 - val_loss: 0.6849 - val_acc: 0.5499\n",
      "Epoch 5/20\n",
      "25000/25000 [==============================] - 1s 34us/step - loss: 0.6827 - acc: 0.5574 - val_loss: 0.6886 - val_acc: 0.5472\n",
      "Epoch 6/20\n",
      "25000/25000 [==============================] - 1s 35us/step - loss: 0.6829 - acc: 0.5540 - val_loss: 0.6862 - val_acc: 0.5529\n",
      "Epoch 7/20\n",
      "25000/25000 [==============================] - 1s 34us/step - loss: 0.6825 - acc: 0.5598 - val_loss: 0.6844 - val_acc: 0.5519\n",
      "Epoch 8/20\n",
      "25000/25000 [==============================] - 1s 34us/step - loss: 0.6821 - acc: 0.5580 - val_loss: 0.6855 - val_acc: 0.5527\n",
      "Epoch 9/20\n",
      "25000/25000 [==============================] - 1s 34us/step - loss: 0.6817 - acc: 0.5582 - val_loss: 0.6870 - val_acc: 0.5516\n",
      "Epoch 10/20\n",
      "25000/25000 [==============================] - 1s 34us/step - loss: 0.6815 - acc: 0.5598 - val_loss: 0.6893 - val_acc: 0.5431\n",
      "Epoch 11/20\n",
      "25000/25000 [==============================] - 1s 34us/step - loss: 0.6818 - acc: 0.5611 - val_loss: 0.6840 - val_acc: 0.5500\n",
      "Epoch 12/20\n",
      "25000/25000 [==============================] - 1s 35us/step - loss: 0.6810 - acc: 0.5618 - val_loss: 0.6839 - val_acc: 0.5520\n",
      "Epoch 13/20\n",
      "25000/25000 [==============================] - 1s 34us/step - loss: 0.6812 - acc: 0.5565 - val_loss: 0.6853 - val_acc: 0.5560\n",
      "Epoch 14/20\n",
      "25000/25000 [==============================] - 1s 34us/step - loss: 0.6810 - acc: 0.5596 - val_loss: 0.6838 - val_acc: 0.5562\n",
      "Epoch 15/20\n",
      "25000/25000 [==============================] - 1s 34us/step - loss: 0.6810 - acc: 0.5606 - val_loss: 0.6839 - val_acc: 0.5539\n",
      "Epoch 16/20\n",
      "25000/25000 [==============================] - 1s 34us/step - loss: 0.6808 - acc: 0.5581 - val_loss: 0.6838 - val_acc: 0.5537\n",
      "Epoch 17/20\n",
      "25000/25000 [==============================] - 1s 34us/step - loss: 0.6806 - acc: 0.5599 - val_loss: 0.6830 - val_acc: 0.5561\n",
      "Epoch 18/20\n",
      "25000/25000 [==============================] - 1s 35us/step - loss: 0.6805 - acc: 0.5615 - val_loss: 0.6834 - val_acc: 0.5566\n",
      "Epoch 19/20\n",
      "25000/25000 [==============================] - 1s 35us/step - loss: 0.6802 - acc: 0.5618 - val_loss: 0.6839 - val_acc: 0.5533\n",
      "Epoch 20/20\n",
      "25000/25000 [==============================] - 1s 35us/step - loss: 0.6799 - acc: 0.5643 - val_loss: 0.6834 - val_acc: 0.5558\n"
     ]
    },
    {
     "data": {
      "text/plain": [
       "<keras.callbacks.History at 0x7fb9beed5b90>"
      ]
     },
     "execution_count": 14,
     "metadata": {},
     "output_type": "execute_result"
    }
   ],
   "source": [
    "model = Sequential()\n",
    "model.add(Dense(64, activation='relu', input_shape=(top_words,)))\n",
    "model.add(Dense(64, activation='relu'))\n",
    "model.add(Dense(1, activation='hard_sigmoid'))\n",
    "model.compile(loss='binary_crossentropy', optimizer='adam', metrics=['accuracy'])\n",
    "print(model.summary())\n",
    "model.fit(embedded_train, y_train, validation_data=(embedded_test, y_test), epochs=20, batch_size=64)\n"
   ]
  },
  {
   "cell_type": "code",
   "execution_count": 15,
   "metadata": {
    "scrolled": true
   },
   "outputs": [
    {
     "name": "stdout",
     "output_type": "stream",
     "text": [
      "Accuracy: 55.58%\n"
     ]
    }
   ],
   "source": [
    "# Final evaluation of the model\n",
    "scores = model.evaluate(embedded_test, y_test, verbose=0)\n",
    "print(\"Accuracy: %.2f%%\" % (scores[1]*100))"
   ]
  },
  {
   "cell_type": "code",
   "execution_count": null,
   "metadata": {},
   "outputs": [],
   "source": []
  }
 ],
 "metadata": {
  "kernelspec": {
   "display_name": "Python 2",
   "language": "python",
   "name": "python2"
  },
  "language_info": {
   "codemirror_mode": {
    "name": "ipython",
    "version": 2
   },
   "file_extension": ".py",
   "mimetype": "text/x-python",
   "name": "python",
   "nbconvert_exporter": "python",
   "pygments_lexer": "ipython2",
   "version": "2.7.12"
  }
 },
 "nbformat": 4,
 "nbformat_minor": 2
}
